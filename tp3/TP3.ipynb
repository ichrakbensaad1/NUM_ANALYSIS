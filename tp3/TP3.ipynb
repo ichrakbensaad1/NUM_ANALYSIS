{
  "nbformat": 4,
  "nbformat_minor": 0,
  "metadata": {
    "colab": {
      "name": "Untitled5.ipynb",
      "provenance": []
    },
    "kernelspec": {
      "name": "python3",
      "display_name": "Python 3"
    },
    "language_info": {
      "name": "python"
    },
    "widgets": {
      "application/vnd.jupyter.widget-state+json": {
        "432bee2f5147469b8e768a61a16489f7": {
          "model_module": "@jupyter-widgets/controls",
          "model_name": "HBoxModel",
          "model_module_version": "1.5.0",
          "state": {
            "_view_name": "HBoxView",
            "_dom_classes": [],
            "_model_name": "HBoxModel",
            "_view_module": "@jupyter-widgets/controls",
            "_model_module_version": "1.5.0",
            "_view_count": null,
            "_view_module_version": "1.5.0",
            "box_style": "",
            "layout": "IPY_MODEL_427e18e53254434babd7f5200f893241",
            "_model_module": "@jupyter-widgets/controls",
            "children": [
              "IPY_MODEL_b09ccbc8475c4f89ba2630e5ba80494b",
              "IPY_MODEL_205a47b7b40f4f5ab838ded35abbbd21"
            ]
          }
        },
        "427e18e53254434babd7f5200f893241": {
          "model_module": "@jupyter-widgets/base",
          "model_name": "LayoutModel",
          "model_module_version": "1.2.0",
          "state": {
            "_view_name": "LayoutView",
            "grid_template_rows": null,
            "right": null,
            "justify_content": null,
            "_view_module": "@jupyter-widgets/base",
            "overflow": null,
            "_model_module_version": "1.2.0",
            "_view_count": null,
            "flex_flow": null,
            "width": null,
            "min_width": null,
            "border": null,
            "align_items": null,
            "bottom": null,
            "_model_module": "@jupyter-widgets/base",
            "top": null,
            "grid_column": null,
            "overflow_y": null,
            "overflow_x": null,
            "grid_auto_flow": null,
            "grid_area": null,
            "grid_template_columns": null,
            "flex": null,
            "_model_name": "LayoutModel",
            "justify_items": null,
            "grid_row": null,
            "max_height": null,
            "align_content": null,
            "visibility": null,
            "align_self": null,
            "height": null,
            "min_height": null,
            "padding": null,
            "grid_auto_rows": null,
            "grid_gap": null,
            "max_width": null,
            "order": null,
            "_view_module_version": "1.2.0",
            "grid_template_areas": null,
            "object_position": null,
            "object_fit": null,
            "grid_auto_columns": null,
            "margin": null,
            "display": null,
            "left": null
          }
        },
        "b09ccbc8475c4f89ba2630e5ba80494b": {
          "model_module": "@jupyter-widgets/controls",
          "model_name": "VBoxModel",
          "model_module_version": "1.5.0",
          "state": {
            "_view_name": "VBoxView",
            "_dom_classes": [],
            "_model_name": "VBoxModel",
            "_view_module": "@jupyter-widgets/controls",
            "_model_module_version": "1.5.0",
            "_view_count": null,
            "_view_module_version": "1.5.0",
            "box_style": "",
            "layout": "IPY_MODEL_643ee35d9d784b7594631594e84fd3b7",
            "_model_module": "@jupyter-widgets/controls",
            "children": [
              "IPY_MODEL_96b0f4ec710349c79329312d5dbf983b",
              "IPY_MODEL_c55b7273a5be43c6b98c549ca03f5ebd",
              "IPY_MODEL_73cc7a18f9f24f748eb49be7d351ff71",
              "IPY_MODEL_98bb28d003a842cbbba35e8deedac9e9",
              "IPY_MODEL_eac324dcb7e14262bfdff64f4f837206",
              "IPY_MODEL_b79a62fb3c5a4e369c559f64dc2ab180",
              "IPY_MODEL_ad39c39c064a4815bbe679363a28e236"
            ]
          }
        },
        "205a47b7b40f4f5ab838ded35abbbd21": {
          "model_module": "@jupyter-widgets/controls",
          "model_name": "VBoxModel",
          "model_module_version": "1.5.0",
          "state": {
            "_view_name": "VBoxView",
            "_dom_classes": [],
            "_model_name": "VBoxModel",
            "_view_module": "@jupyter-widgets/controls",
            "_model_module_version": "1.5.0",
            "_view_count": null,
            "_view_module_version": "1.5.0",
            "box_style": "",
            "layout": "IPY_MODEL_643ee35d9d784b7594631594e84fd3b7",
            "_model_module": "@jupyter-widgets/controls",
            "children": [
              "IPY_MODEL_1143472d750c4469b49c6c025f2f518f"
            ]
          }
        },
        "643ee35d9d784b7594631594e84fd3b7": {
          "model_module": "@jupyter-widgets/base",
          "model_name": "LayoutModel",
          "model_module_version": "1.2.0",
          "state": {
            "_view_name": "LayoutView",
            "grid_template_rows": null,
            "right": null,
            "justify_content": null,
            "_view_module": "@jupyter-widgets/base",
            "overflow": null,
            "_model_module_version": "1.2.0",
            "_view_count": null,
            "flex_flow": null,
            "width": null,
            "min_width": null,
            "border": "solid 2px blue",
            "align_items": null,
            "bottom": null,
            "_model_module": "@jupyter-widgets/base",
            "top": null,
            "grid_column": null,
            "overflow_y": null,
            "overflow_x": null,
            "grid_auto_flow": null,
            "grid_area": null,
            "grid_template_columns": null,
            "flex": null,
            "_model_name": "LayoutModel",
            "justify_items": null,
            "grid_row": null,
            "max_height": null,
            "align_content": null,
            "visibility": null,
            "align_self": null,
            "height": null,
            "min_height": null,
            "padding": "5px 5px 5px 5px",
            "grid_auto_rows": null,
            "grid_gap": null,
            "max_width": null,
            "order": null,
            "_view_module_version": "1.2.0",
            "grid_template_areas": null,
            "object_position": null,
            "object_fit": null,
            "grid_auto_columns": null,
            "margin": "0px 10px 10px 0px",
            "display": null,
            "left": null
          }
        },
        "96b0f4ec710349c79329312d5dbf983b": {
          "model_module": "@jupyter-widgets/controls",
          "model_name": "DropdownModel",
          "model_module_version": "1.5.0",
          "state": {
            "_options_labels": [
              "Méthode de rectangle gauche",
              "Méthode des trapéze",
              "méthode de Simpson",
              "méthode de Milieu"
            ],
            "_view_name": "DropdownView",
            "style": "IPY_MODEL_ed28b3039ae3437e85eb76603643b849",
            "_dom_classes": [],
            "description": "Choix de Méthode:",
            "_model_name": "DropdownModel",
            "index": 1,
            "_view_module": "@jupyter-widgets/controls",
            "_model_module_version": "1.5.0",
            "_view_count": null,
            "disabled": false,
            "_view_module_version": "1.5.0",
            "description_tooltip": null,
            "_model_module": "@jupyter-widgets/controls",
            "layout": "IPY_MODEL_4736b984c4224b04a4e7cc3012c78b91"
          }
        },
        "c55b7273a5be43c6b98c549ca03f5ebd": {
          "model_module": "@jupyter-widgets/controls",
          "model_name": "TextModel",
          "model_module_version": "1.5.0",
          "state": {
            "_view_name": "TextView",
            "style": "IPY_MODEL_06f69343d0bd421c85b10e23b33e9148",
            "_dom_classes": [],
            "description": "Fonction",
            "_model_name": "TextModel",
            "placeholder": "​",
            "_view_module": "@jupyter-widgets/controls",
            "_model_module_version": "1.5.0",
            "value": "sin(x)",
            "_view_count": null,
            "disabled": false,
            "_view_module_version": "1.5.0",
            "continuous_update": true,
            "description_tooltip": null,
            "_model_module": "@jupyter-widgets/controls",
            "layout": "IPY_MODEL_4523159b58e8484a878890921983113c"
          }
        },
        "73cc7a18f9f24f748eb49be7d351ff71": {
          "model_module": "@jupyter-widgets/controls",
          "model_name": "TextModel",
          "model_module_version": "1.5.0",
          "state": {
            "_view_name": "TextView",
            "style": "IPY_MODEL_0cfdc150d1ec4e52a9eb5e38f96cb6c3",
            "_dom_classes": [],
            "description": "a",
            "_model_name": "TextModel",
            "placeholder": "​",
            "_view_module": "@jupyter-widgets/controls",
            "_model_module_version": "1.5.0",
            "value": "-1",
            "_view_count": null,
            "disabled": false,
            "_view_module_version": "1.5.0",
            "continuous_update": true,
            "description_tooltip": null,
            "_model_module": "@jupyter-widgets/controls",
            "layout": "IPY_MODEL_dc4a5a5132f743c6885ef0d898fdc862"
          }
        },
        "98bb28d003a842cbbba35e8deedac9e9": {
          "model_module": "@jupyter-widgets/controls",
          "model_name": "TextModel",
          "model_module_version": "1.5.0",
          "state": {
            "_view_name": "TextView",
            "style": "IPY_MODEL_aec1ccc49f84443787fc444935411f22",
            "_dom_classes": [],
            "description": "b",
            "_model_name": "TextModel",
            "placeholder": "​",
            "_view_module": "@jupyter-widgets/controls",
            "_model_module_version": "1.5.0",
            "value": "1",
            "_view_count": null,
            "disabled": false,
            "_view_module_version": "1.5.0",
            "continuous_update": true,
            "description_tooltip": null,
            "_model_module": "@jupyter-widgets/controls",
            "layout": "IPY_MODEL_c7f75691a40847e1bcad830df47d591a"
          }
        },
        "eac324dcb7e14262bfdff64f4f837206": {
          "model_module": "@jupyter-widgets/controls",
          "model_name": "TextModel",
          "model_module_version": "1.5.0",
          "state": {
            "_view_name": "TextView",
            "style": "IPY_MODEL_eff1a43180804db490d8143865b5e604",
            "_dom_classes": [],
            "description": "N",
            "_model_name": "TextModel",
            "placeholder": "​",
            "_view_module": "@jupyter-widgets/controls",
            "_model_module_version": "1.5.0",
            "value": "3",
            "_view_count": null,
            "disabled": false,
            "_view_module_version": "1.5.0",
            "continuous_update": true,
            "description_tooltip": null,
            "_model_module": "@jupyter-widgets/controls",
            "layout": "IPY_MODEL_3d6491def6c44d5d81b81361e2282d0b"
          }
        },
        "b79a62fb3c5a4e369c559f64dc2ab180": {
          "model_module": "@jupyter-widgets/controls",
          "model_name": "ButtonModel",
          "model_module_version": "1.5.0",
          "state": {
            "_view_name": "ButtonView",
            "style": "IPY_MODEL_26ce4075bd414ba8a82ab4bdfcb6a84f",
            "_dom_classes": [],
            "description": "Calculer",
            "_model_name": "ButtonModel",
            "button_style": "",
            "_view_module": "@jupyter-widgets/controls",
            "_model_module_version": "1.5.0",
            "tooltip": "",
            "_view_count": null,
            "disabled": false,
            "_view_module_version": "1.5.0",
            "layout": "IPY_MODEL_aa8c5286beed486da9eea65ea9b31c77",
            "_model_module": "@jupyter-widgets/controls",
            "icon": ""
          }
        },
        "ad39c39c064a4815bbe679363a28e236": {
          "model_module": "@jupyter-widgets/controls",
          "model_name": "TextModel",
          "model_module_version": "1.5.0",
          "state": {
            "_view_name": "TextView",
            "style": "IPY_MODEL_4aa666e5343d4aa3b20aabe903500847",
            "_dom_classes": [],
            "description": "I_3",
            "_model_name": "TextModel",
            "placeholder": "​",
            "_view_module": "@jupyter-widgets/controls",
            "_model_module_version": "1.5.0",
            "value": "-7.401486830834377e-17",
            "_view_count": null,
            "disabled": false,
            "_view_module_version": "1.5.0",
            "continuous_update": true,
            "description_tooltip": null,
            "_model_module": "@jupyter-widgets/controls",
            "layout": "IPY_MODEL_3d0ce55949ac4b56a0580c8a27f38321"
          }
        },
        "1143472d750c4469b49c6c025f2f518f": {
          "model_module": "@jupyter-widgets/output",
          "model_name": "OutputModel",
          "model_module_version": "1.0.0",
          "state": {
            "_view_name": "OutputView",
            "msg_id": "",
            "_dom_classes": [],
            "_model_name": "OutputModel",
            "outputs": [],
            "_view_module": "@jupyter-widgets/output",
            "_model_module_version": "1.0.0",
            "_view_count": null,
            "_view_module_version": "1.0.0",
            "layout": "IPY_MODEL_2e3db71523f9455685e488aed7ac8785",
            "_model_module": "@jupyter-widgets/output"
          }
        },
        "ed28b3039ae3437e85eb76603643b849": {
          "model_module": "@jupyter-widgets/controls",
          "model_name": "DescriptionStyleModel",
          "model_module_version": "1.5.0",
          "state": {
            "_view_name": "StyleView",
            "_model_name": "DescriptionStyleModel",
            "description_width": "",
            "_view_module": "@jupyter-widgets/base",
            "_model_module_version": "1.5.0",
            "_view_count": null,
            "_view_module_version": "1.2.0",
            "_model_module": "@jupyter-widgets/controls"
          }
        },
        "4736b984c4224b04a4e7cc3012c78b91": {
          "model_module": "@jupyter-widgets/base",
          "model_name": "LayoutModel",
          "model_module_version": "1.2.0",
          "state": {
            "_view_name": "LayoutView",
            "grid_template_rows": null,
            "right": null,
            "justify_content": null,
            "_view_module": "@jupyter-widgets/base",
            "overflow": null,
            "_model_module_version": "1.2.0",
            "_view_count": null,
            "flex_flow": null,
            "width": null,
            "min_width": null,
            "border": null,
            "align_items": null,
            "bottom": null,
            "_model_module": "@jupyter-widgets/base",
            "top": null,
            "grid_column": null,
            "overflow_y": null,
            "overflow_x": null,
            "grid_auto_flow": null,
            "grid_area": null,
            "grid_template_columns": null,
            "flex": null,
            "_model_name": "LayoutModel",
            "justify_items": null,
            "grid_row": null,
            "max_height": null,
            "align_content": null,
            "visibility": null,
            "align_self": null,
            "height": null,
            "min_height": null,
            "padding": null,
            "grid_auto_rows": null,
            "grid_gap": null,
            "max_width": null,
            "order": null,
            "_view_module_version": "1.2.0",
            "grid_template_areas": null,
            "object_position": null,
            "object_fit": null,
            "grid_auto_columns": null,
            "margin": null,
            "display": null,
            "left": null
          }
        },
        "06f69343d0bd421c85b10e23b33e9148": {
          "model_module": "@jupyter-widgets/controls",
          "model_name": "DescriptionStyleModel",
          "model_module_version": "1.5.0",
          "state": {
            "_view_name": "StyleView",
            "_model_name": "DescriptionStyleModel",
            "description_width": "",
            "_view_module": "@jupyter-widgets/base",
            "_model_module_version": "1.5.0",
            "_view_count": null,
            "_view_module_version": "1.2.0",
            "_model_module": "@jupyter-widgets/controls"
          }
        },
        "4523159b58e8484a878890921983113c": {
          "model_module": "@jupyter-widgets/base",
          "model_name": "LayoutModel",
          "model_module_version": "1.2.0",
          "state": {
            "_view_name": "LayoutView",
            "grid_template_rows": null,
            "right": null,
            "justify_content": null,
            "_view_module": "@jupyter-widgets/base",
            "overflow": null,
            "_model_module_version": "1.2.0",
            "_view_count": null,
            "flex_flow": null,
            "width": null,
            "min_width": null,
            "border": null,
            "align_items": null,
            "bottom": null,
            "_model_module": "@jupyter-widgets/base",
            "top": null,
            "grid_column": null,
            "overflow_y": null,
            "overflow_x": null,
            "grid_auto_flow": null,
            "grid_area": null,
            "grid_template_columns": null,
            "flex": null,
            "_model_name": "LayoutModel",
            "justify_items": null,
            "grid_row": null,
            "max_height": null,
            "align_content": null,
            "visibility": null,
            "align_self": null,
            "height": null,
            "min_height": null,
            "padding": null,
            "grid_auto_rows": null,
            "grid_gap": null,
            "max_width": null,
            "order": null,
            "_view_module_version": "1.2.0",
            "grid_template_areas": null,
            "object_position": null,
            "object_fit": null,
            "grid_auto_columns": null,
            "margin": null,
            "display": null,
            "left": null
          }
        },
        "0cfdc150d1ec4e52a9eb5e38f96cb6c3": {
          "model_module": "@jupyter-widgets/controls",
          "model_name": "DescriptionStyleModel",
          "model_module_version": "1.5.0",
          "state": {
            "_view_name": "StyleView",
            "_model_name": "DescriptionStyleModel",
            "description_width": "",
            "_view_module": "@jupyter-widgets/base",
            "_model_module_version": "1.5.0",
            "_view_count": null,
            "_view_module_version": "1.2.0",
            "_model_module": "@jupyter-widgets/controls"
          }
        },
        "dc4a5a5132f743c6885ef0d898fdc862": {
          "model_module": "@jupyter-widgets/base",
          "model_name": "LayoutModel",
          "model_module_version": "1.2.0",
          "state": {
            "_view_name": "LayoutView",
            "grid_template_rows": null,
            "right": null,
            "justify_content": null,
            "_view_module": "@jupyter-widgets/base",
            "overflow": null,
            "_model_module_version": "1.2.0",
            "_view_count": null,
            "flex_flow": null,
            "width": null,
            "min_width": null,
            "border": null,
            "align_items": null,
            "bottom": null,
            "_model_module": "@jupyter-widgets/base",
            "top": null,
            "grid_column": null,
            "overflow_y": null,
            "overflow_x": null,
            "grid_auto_flow": null,
            "grid_area": null,
            "grid_template_columns": null,
            "flex": null,
            "_model_name": "LayoutModel",
            "justify_items": null,
            "grid_row": null,
            "max_height": null,
            "align_content": null,
            "visibility": null,
            "align_self": null,
            "height": null,
            "min_height": null,
            "padding": null,
            "grid_auto_rows": null,
            "grid_gap": null,
            "max_width": null,
            "order": null,
            "_view_module_version": "1.2.0",
            "grid_template_areas": null,
            "object_position": null,
            "object_fit": null,
            "grid_auto_columns": null,
            "margin": null,
            "display": null,
            "left": null
          }
        },
        "aec1ccc49f84443787fc444935411f22": {
          "model_module": "@jupyter-widgets/controls",
          "model_name": "DescriptionStyleModel",
          "model_module_version": "1.5.0",
          "state": {
            "_view_name": "StyleView",
            "_model_name": "DescriptionStyleModel",
            "description_width": "",
            "_view_module": "@jupyter-widgets/base",
            "_model_module_version": "1.5.0",
            "_view_count": null,
            "_view_module_version": "1.2.0",
            "_model_module": "@jupyter-widgets/controls"
          }
        },
        "c7f75691a40847e1bcad830df47d591a": {
          "model_module": "@jupyter-widgets/base",
          "model_name": "LayoutModel",
          "model_module_version": "1.2.0",
          "state": {
            "_view_name": "LayoutView",
            "grid_template_rows": null,
            "right": null,
            "justify_content": null,
            "_view_module": "@jupyter-widgets/base",
            "overflow": null,
            "_model_module_version": "1.2.0",
            "_view_count": null,
            "flex_flow": null,
            "width": null,
            "min_width": null,
            "border": null,
            "align_items": null,
            "bottom": null,
            "_model_module": "@jupyter-widgets/base",
            "top": null,
            "grid_column": null,
            "overflow_y": null,
            "overflow_x": null,
            "grid_auto_flow": null,
            "grid_area": null,
            "grid_template_columns": null,
            "flex": null,
            "_model_name": "LayoutModel",
            "justify_items": null,
            "grid_row": null,
            "max_height": null,
            "align_content": null,
            "visibility": null,
            "align_self": null,
            "height": null,
            "min_height": null,
            "padding": null,
            "grid_auto_rows": null,
            "grid_gap": null,
            "max_width": null,
            "order": null,
            "_view_module_version": "1.2.0",
            "grid_template_areas": null,
            "object_position": null,
            "object_fit": null,
            "grid_auto_columns": null,
            "margin": null,
            "display": null,
            "left": null
          }
        },
        "eff1a43180804db490d8143865b5e604": {
          "model_module": "@jupyter-widgets/controls",
          "model_name": "DescriptionStyleModel",
          "model_module_version": "1.5.0",
          "state": {
            "_view_name": "StyleView",
            "_model_name": "DescriptionStyleModel",
            "description_width": "",
            "_view_module": "@jupyter-widgets/base",
            "_model_module_version": "1.5.0",
            "_view_count": null,
            "_view_module_version": "1.2.0",
            "_model_module": "@jupyter-widgets/controls"
          }
        },
        "3d6491def6c44d5d81b81361e2282d0b": {
          "model_module": "@jupyter-widgets/base",
          "model_name": "LayoutModel",
          "model_module_version": "1.2.0",
          "state": {
            "_view_name": "LayoutView",
            "grid_template_rows": null,
            "right": null,
            "justify_content": null,
            "_view_module": "@jupyter-widgets/base",
            "overflow": null,
            "_model_module_version": "1.2.0",
            "_view_count": null,
            "flex_flow": null,
            "width": null,
            "min_width": null,
            "border": null,
            "align_items": null,
            "bottom": null,
            "_model_module": "@jupyter-widgets/base",
            "top": null,
            "grid_column": null,
            "overflow_y": null,
            "overflow_x": null,
            "grid_auto_flow": null,
            "grid_area": null,
            "grid_template_columns": null,
            "flex": null,
            "_model_name": "LayoutModel",
            "justify_items": null,
            "grid_row": null,
            "max_height": null,
            "align_content": null,
            "visibility": null,
            "align_self": null,
            "height": null,
            "min_height": null,
            "padding": null,
            "grid_auto_rows": null,
            "grid_gap": null,
            "max_width": null,
            "order": null,
            "_view_module_version": "1.2.0",
            "grid_template_areas": null,
            "object_position": null,
            "object_fit": null,
            "grid_auto_columns": null,
            "margin": null,
            "display": null,
            "left": null
          }
        },
        "26ce4075bd414ba8a82ab4bdfcb6a84f": {
          "model_module": "@jupyter-widgets/controls",
          "model_name": "ButtonStyleModel",
          "model_module_version": "1.5.0",
          "state": {
            "_view_name": "StyleView",
            "_model_name": "ButtonStyleModel",
            "_view_module": "@jupyter-widgets/base",
            "_model_module_version": "1.5.0",
            "_view_count": null,
            "button_color": "red",
            "font_weight": "",
            "_view_module_version": "1.2.0",
            "_model_module": "@jupyter-widgets/controls"
          }
        },
        "aa8c5286beed486da9eea65ea9b31c77": {
          "model_module": "@jupyter-widgets/base",
          "model_name": "LayoutModel",
          "model_module_version": "1.2.0",
          "state": {
            "_view_name": "LayoutView",
            "grid_template_rows": null,
            "right": null,
            "justify_content": null,
            "_view_module": "@jupyter-widgets/base",
            "overflow": null,
            "_model_module_version": "1.2.0",
            "_view_count": null,
            "flex_flow": null,
            "width": null,
            "min_width": null,
            "border": null,
            "align_items": null,
            "bottom": null,
            "_model_module": "@jupyter-widgets/base",
            "top": null,
            "grid_column": null,
            "overflow_y": null,
            "overflow_x": null,
            "grid_auto_flow": null,
            "grid_area": null,
            "grid_template_columns": null,
            "flex": null,
            "_model_name": "LayoutModel",
            "justify_items": null,
            "grid_row": null,
            "max_height": null,
            "align_content": null,
            "visibility": null,
            "align_self": null,
            "height": null,
            "min_height": null,
            "padding": null,
            "grid_auto_rows": null,
            "grid_gap": null,
            "max_width": null,
            "order": null,
            "_view_module_version": "1.2.0",
            "grid_template_areas": null,
            "object_position": null,
            "object_fit": null,
            "grid_auto_columns": null,
            "margin": null,
            "display": null,
            "left": null
          }
        },
        "4aa666e5343d4aa3b20aabe903500847": {
          "model_module": "@jupyter-widgets/controls",
          "model_name": "DescriptionStyleModel",
          "model_module_version": "1.5.0",
          "state": {
            "_view_name": "StyleView",
            "_model_name": "DescriptionStyleModel",
            "description_width": "",
            "_view_module": "@jupyter-widgets/base",
            "_model_module_version": "1.5.0",
            "_view_count": null,
            "_view_module_version": "1.2.0",
            "_model_module": "@jupyter-widgets/controls"
          }
        },
        "3d0ce55949ac4b56a0580c8a27f38321": {
          "model_module": "@jupyter-widgets/base",
          "model_name": "LayoutModel",
          "model_module_version": "1.2.0",
          "state": {
            "_view_name": "LayoutView",
            "grid_template_rows": null,
            "right": null,
            "justify_content": null,
            "_view_module": "@jupyter-widgets/base",
            "overflow": null,
            "_model_module_version": "1.2.0",
            "_view_count": null,
            "flex_flow": null,
            "width": null,
            "min_width": null,
            "border": null,
            "align_items": null,
            "bottom": null,
            "_model_module": "@jupyter-widgets/base",
            "top": null,
            "grid_column": null,
            "overflow_y": null,
            "overflow_x": null,
            "grid_auto_flow": null,
            "grid_area": null,
            "grid_template_columns": null,
            "flex": null,
            "_model_name": "LayoutModel",
            "justify_items": null,
            "grid_row": null,
            "max_height": null,
            "align_content": null,
            "visibility": null,
            "align_self": null,
            "height": null,
            "min_height": null,
            "padding": null,
            "grid_auto_rows": null,
            "grid_gap": null,
            "max_width": null,
            "order": null,
            "_view_module_version": "1.2.0",
            "grid_template_areas": null,
            "object_position": null,
            "object_fit": null,
            "grid_auto_columns": null,
            "margin": null,
            "display": null,
            "left": null
          }
        },
        "2e3db71523f9455685e488aed7ac8785": {
          "model_module": "@jupyter-widgets/base",
          "model_name": "LayoutModel",
          "model_module_version": "1.2.0",
          "state": {
            "_view_name": "LayoutView",
            "grid_template_rows": null,
            "right": null,
            "justify_content": null,
            "_view_module": "@jupyter-widgets/base",
            "overflow": null,
            "_model_module_version": "1.2.0",
            "_view_count": null,
            "flex_flow": null,
            "width": null,
            "min_width": null,
            "border": null,
            "align_items": null,
            "bottom": null,
            "_model_module": "@jupyter-widgets/base",
            "top": null,
            "grid_column": null,
            "overflow_y": null,
            "overflow_x": null,
            "grid_auto_flow": null,
            "grid_area": null,
            "grid_template_columns": null,
            "flex": null,
            "_model_name": "LayoutModel",
            "justify_items": null,
            "grid_row": null,
            "max_height": null,
            "align_content": null,
            "visibility": null,
            "align_self": null,
            "height": null,
            "min_height": null,
            "padding": null,
            "grid_auto_rows": null,
            "grid_gap": null,
            "max_width": null,
            "order": null,
            "_view_module_version": "1.2.0",
            "grid_template_areas": null,
            "object_position": null,
            "object_fit": null,
            "grid_auto_columns": null,
            "margin": null,
            "display": null,
            "left": null
          }
        }
      }
    }
  },
  "cells": [
    {
      "cell_type": "markdown",
      "source": [
        "\n",
        "\n",
        "---\n",
        "\n",
        "\n",
        "\n",
        "\n",
        "\n",
        "\n",
        "# **Projet Analyse Numerique** \n",
        "\n",
        "## Intégration Numérique\n",
        "Ichrak Ben Saad\n",
        " \n",
        "2DNI -G2\n",
        "\n",
        "\n",
        "\n",
        "\n",
        "\n",
        "\n",
        "\n",
        "\n",
        "\n",
        "\n",
        "\n",
        "\n",
        "\n",
        "\n",
        "\n",
        "---\n",
        "\n",
        "\n",
        "\n",
        "\n",
        "\n",
        "\n",
        "\n",
        "\n"
      ],
      "metadata": {
        "id": "gGCUxbX5DsN6"
      }
    },
    {
      "cell_type": "markdown",
      "source": [
        "Le but de ce projet est de comparer les 4 méthode d'intégration numériques."
      ],
      "metadata": {
        "id": "nmdK3Rt1GJVx"
      }
    },
    {
      "cell_type": "markdown",
      "source": [
        "Importer des bibliothèques python"
      ],
      "metadata": {
        "id": "PxxO3dquFC5o"
      }
    },
    {
      "cell_type": "code",
      "source": [
        "import ipywidgets as widgets\n",
        "import matplotlib.pyplot as plt\n",
        "import numpy as np\n",
        "from numpy import *"
      ],
      "metadata": {
        "id": "lZvzH1ey78ks"
      },
      "execution_count": 40,
      "outputs": []
    },
    {
      "cell_type": "markdown",
      "source": [
        "**Méthode des réctangles**\n",
        "\n",
        "\n",
        "\n"
      ],
      "metadata": {
        "id": "GZdTyb2QFQVS"
      }
    },
    {
      "cell_type": "markdown",
      "source": [
        "Cette méthode utilise le polynôme de degré le plus bas, à savoir\n",
        "le polynôme constant :\n",
        "P0(x) = f(a) = f0"
      ],
      "metadata": {
        "id": "kwax-yyRGfZJ"
      }
    },
    {
      "cell_type": "code",
      "execution_count": 41,
      "metadata": {
        "id": "TrJBMQz-768d"
      },
      "outputs": [],
      "source": [
        "  class RectangleG (object) :\n",
        "    def __init__ (self , a , b ,n ,f) :\n",
        "        self.a = a \n",
        "        self.b = b\n",
        "        self.x = np.linspace(a,b,n+1)\n",
        "        self.f = f\n",
        "        self.n = n\n",
        "       \n",
        "    def integrate (self ,f) :\n",
        "        x = self.x\n",
        "        y = f(x)\n",
        "        h = float(x[1] - x[0])\n",
        "        s = sum(y[ 0 : -1])\n",
        "        return h*s\n",
        "    def graphe (self , f , resolution =1001) :\n",
        "        xl = self.x\n",
        "        yl = f(xl)\n",
        "        xlist_fine = np.linspace(self.a , self.b , resolution)\n",
        "        for i in range (self.n) :\n",
        "            x_rect = [xl[i] , xl[i] , xl[i+1] , xl[i+1] , xl[i] ]\n",
        "            y_rect = [0 , yl[i] , yl[i] , 0 , 0 ]\n",
        "            plt.plot(x_rect , y_rect ,'r')\n",
        "        yflist_fine = f(xlist_fine)\n",
        "        plt.plot(xlist_fine,yflist_fine)\n",
        "        plt.plot(xl , yl , \"bo\")\n",
        "        plt.xlabel ('x')\n",
        "        plt.ylabel ('f(x)')\n",
        "        plt.title('méthode de rectangle gauche')"
      ]
    },
    {
      "cell_type": "markdown",
      "source": [
        "**Méthode du point milieu**"
      ],
      "metadata": {
        "id": "OuSVreWQFzRY"
      }
    },
    {
      "cell_type": "markdown",
      "source": [
        "Cette méthode utilise également le polynôme constant pour\n",
        "approximer la fonction f. Cependant, elle exploite mieux les\n",
        "symétries du problème en choisissant la valeur milieu :\n",
        "P0 (x) = f((a+b)/2)=f0\n"
      ],
      "metadata": {
        "id": "06V8kRxnGj8C"
      }
    },
    {
      "cell_type": "code",
      "source": [
        "class Milieu(object) :\n",
        "    def __init__ (self , a , b ,n ,f) :\n",
        "        self.a = a \n",
        "        self.b = b\n",
        "        self.x = np.linspace(a,b,n+1)\n",
        "        self.f = f\n",
        "        self.n = n   \n",
        "       \n",
        "    def integrate (self ,f) :\n",
        "        x = self.x\n",
        "        y = f(x)\n",
        "        h = float(x[1] - x[0])\n",
        "        s = 0\n",
        "        for i in range (self.n) :\n",
        "            s = s+f((x[i]+x[i+1])*0.5) \n",
        "        return h*s\n",
        "    def graphe (self , f , resolution =1001) :\n",
        "        xl = self.x\n",
        "        yl = f(xl)\n",
        "        xlist_fine = np.linspace(self.a , self.b , resolution)\n",
        "        for i in range (self.n) :\n",
        "            m = (xl[i] + xl[i+1])/2\n",
        "            x_rect = [xl[i] , xl[i] , xl[i+1] , xl[i+1] , xl[i] ]\n",
        "            y_rect = [0 , f(m) , f(m) , 0 , 0 ]\n",
        "            plt.plot(x_rect , y_rect ,'g')\n",
        "            plt.plot(m , f(m) ,'r*')\n",
        "        yflist_fine = f(xlist_fine)\n",
        "        plt.plot(xlist_fine,yflist_fine , 'b')\n",
        "        plt.xlabel ('x')\n",
        "        plt.ylabel ('f(x)')\n",
        "        plt.title('Méthode de Milieu')"
      ],
      "metadata": {
        "id": "knQCmlCN8WDP"
      },
      "execution_count": 44,
      "outputs": []
    },
    {
      "cell_type": "markdown",
      "source": [
        "**Méthode de Simpson**"
      ],
      "metadata": {
        "id": "xQGGk4iUFuqA"
      }
    },
    {
      "cell_type": "markdown",
      "source": [
        "Pour approximer la fonction f, cette méthode utilise le polynôme de degré 2 (la parabole) qui passe par\n",
        "les trois points f0 = f(a), f1 = f\n",
        " a+b\n",
        "2\n",
        "et f2 = f(b) :\n"
      ],
      "metadata": {
        "id": "L0spZKmpGzRd"
      }
    },
    {
      "cell_type": "code",
      "source": [
        "class Simpson(object) :\n",
        "    def __init__ (self , a , b ,n ,f) :\n",
        "        self.a = a \n",
        "        self.b = b\n",
        "        self.x = np.linspace(a,b,n+1)\n",
        "        self.f = f\n",
        "        self.n = n\n",
        "        \n",
        "    def integrate (self ,f) :\n",
        "        x = self.x\n",
        "        y = f(x)\n",
        "        h = float(x[2] - x[1])\n",
        "        n = len(x) -1\n",
        "        if n % 2 == 1 :\n",
        "            s = y[0] + y[n] + 4.0 * sum(y[1:-1:2]) + 2.0 * sum(y[2:-2:2])\n",
        "        return h * s / 3.0\n",
        "    def graphe (self , f , resolution =1001) :\n",
        "        xl = self.x\n",
        "        yl = f(xl)\n",
        "        xlist_fine = np.linspace(self.a , self.b , resolution)\n",
        "        for i in range (self.n) :\n",
        "            xx = np.linspace(xl[ i ],xl[i + 1],resolution)\n",
        "            m = (xl[i]+ xl[i + 1])/ 2\n",
        "            a = xl[i]\n",
        "            b = xl[i +1]\n",
        "            l0  =(xx-m)/(a-m)*(xx-b)/(a-b)\n",
        "            l1 =(xx-a)/(m-a)*(xx-b)/(m-b)\n",
        "            l2 =(xx-a)/(b-a)*(xx-m)/(b-m)\n",
        "            P = f(a)*l0 + f(m)*l1 + f(b)*l2\n",
        "            plt.plot(xx , P ,'r')\n",
        "            plt.plot(m , f(m) ,'g*')\n",
        "        yflist_fine = f(xlist_fine)\n",
        "        plt.plot(xlist_fine,yflist_fine , 'y')\n",
        "        plt.plot(xl , yl , \"bo\")\n",
        "        plt.xlabel ('x')\n",
        "        plt.ylabel ('f(x)')\n",
        "        plt.title('Méthode de Simpson')"
      ],
      "metadata": {
        "id": "OwZFBaHs8QMe"
      },
      "execution_count": 43,
      "outputs": []
    },
    {
      "cell_type": "markdown",
      "source": [
        "**Méthode des trapézes**\n",
        "\n",
        "\n",
        "\n"
      ],
      "metadata": {
        "id": "mxPn8X-DFbh9"
      }
    },
    {
      "cell_type": "markdown",
      "source": [
        "Pour approximer la fonction f, cette méthode utilise le polynôme\n",
        "d’ordre 1 (la droite) qui passe par f0 = f(a) et f1 = f(b) :\n",
        "P1(x) = ((f0 + f1)/2)+((f1-f2)/b-a)*(x-((a+b)/2)\n"
      ],
      "metadata": {
        "id": "ZTdk85ING7KD"
      }
    },
    {
      "cell_type": "code",
      "source": [
        "class trapeze(object) :\n",
        "    def __init__ (self , a , b ,n ,f) :\n",
        "        self.a = a \n",
        "        self.b = b\n",
        "        self.x = np.linspace(a,b,n+1)\n",
        "        self.f = f\n",
        "        self.n = n\n",
        "    def integrate (self ,f) :\n",
        "        x = self.x\n",
        "        y = f(x)\n",
        "        h = float(x[1] - x[0])\n",
        "        s = y[0] + y[-1] + 2.0*sum(y[1:-1])\n",
        "        return h*s/2.0\n",
        "    def graphe (self , f , resolution =1001) :\n",
        "        xl = self.x\n",
        "        yl = f(xl)\n",
        "        xlist_fine = np.linspace(self.a , self.b , resolution)\n",
        "        for i in range (self.n) :\n",
        "            x_rect = [xl[i] , xl[i] , xl[i+1] , xl[i+1] , xl[i] ]\n",
        "            y_rect = [0 , yl[i] , yl[i] , 0 , 0 ]\n",
        "            plt.plot(x_rect , y_rect ,\"m\")\n",
        "        yflist_fine = f(xlist_fine)\n",
        "        plt.plot(xlist_fine,yflist_fine)\n",
        "        plt.plot(xl , yl , \"cs\")\n",
        "        plt.ylabel ('f(x)')\n",
        "        plt.title('Méthode des trapéze')\n"
      ],
      "metadata": {
        "id": "Gn8BY0g08Lwr"
      },
      "execution_count": 42,
      "outputs": []
    },
    {
      "cell_type": "markdown",
      "source": [
        "**création de l'interface**"
      ],
      "metadata": {
        "id": "1V69dj8EGAms"
      }
    },
    {
      "cell_type": "code",
      "source": [
        "Sel = widgets.Dropdown(\n",
        "      options=[('Méthode de rectangle gauche',1) , ('Méthode des trapéze',2) , ('méthode de Simpson',3) , ('méthode de Milieu',4)] ,\n",
        "      value=2 ,\n",
        "      description='Choix de Méthode:',\n",
        ")\n",
        "\n",
        "text_func = widgets.Text(value='sin(x)' , description='Fonction' , continious_update=False)\n",
        "text_xlabel = widgets.Text(value='' , description='abscisse' , continious_update=False)\n",
        "text_ylabel = widgets.Text(value='' , description='ordonnée' , continious_update=False)\n",
        "text_a = widgets.Text(value='-1' , description='a' , continious_update=False)\n",
        "text_b = widgets.Text(value='1' , description='b' , continious_update=False)\n",
        "text_n = widgets.Text(value='3' , description='N' , continious_update=False)\n",
        "text_int = widgets.Text(value='' , description='I_N' , continious_update=True)\n",
        "button = widgets.Button(description=\"Calculer\",style= {'button_color':'red'})\n",
        "def sim(b):\n",
        "    dic={1:RectangleG,2:trapeze,3:Simpson,4:Milieu}\n",
        "    s=Sel.value\n",
        "    plt.cla()\n",
        "    func=lambda x:eval(text_func.value) \n",
        "    R=dic[s](float(text_a.value), float(text_b.value),int(text_n.value),func)\n",
        "    R.graphe(func)\n",
        "    text_int.value=str(R.integrate(func))\n",
        "    text_int.description='I_'+text_n.value\n",
        "def update_a(change) :\n",
        "    change.new\n",
        "def update_b(change) :\n",
        "    change.new\n",
        "def update_n(change) :\n",
        "    change.new\n",
        "def update_f(change) :\n",
        "    change.new\n",
        "\n",
        "button.on_click(sim)\n",
        "\n",
        "text_func.observe(update_f , 'value')\n",
        "text_a.observe(update_a , 'value')\n",
        "text_b.observe(update_b , 'value')"
      ],
      "metadata": {
        "id": "tRMOTQio8cDX"
      },
      "execution_count": 56,
      "outputs": []
    },
    {
      "cell_type": "code",
      "source": [
        "output = widgets.Output()\n",
        "with output:\n",
        "    fig, ax = plt.subplots(constrained_layout=True , figsize=(5,4))\n",
        "fig.canvas.toolbar_position='bottom'"
      ],
      "metadata": {
        "colab": {
          "base_uri": "https://localhost:8080/",
          "height": 313
        },
        "id": "ZCRvHTp18fSq",
        "outputId": "69f772ca-06f1-4ce4-83df-6d5d640c7e60"
      },
      "execution_count": 53,
      "outputs": [
        {
          "output_type": "display_data",
          "data": {
            "image/png": "[encoded data removed]",
            "text/plain": [
              "<Figure size 360x288 with 1 Axes>"
            ]
          },
          "metadata": {
            "needs_background": "light"
          }
        }
      ]
    },
    {
      "cell_type": "code",
      "source": [
        "def make_boxes() :\n",
        "    vbox1 = widgets.VBox([Sel,text_func,text_a,text_b,text_n,button,text_int])\n",
        "    vbox2 = widgets.VBox([output])\n",
        "    return vbox1,vbox2\n",
        "box_layout = widgets.Layout(\n",
        "        border='solid 2px blue',\n",
        "        margin='0px 10px 10px 0px',\n",
        "        padding='5px 5px 5px 5px')\n",
        "vbox1,vbox2 = make_boxes()\n",
        "vbox1.layout = box_layout\n",
        "vbox2.layout = box_layout\n",
        "widgets.HBox([vbox1,vbox2])"
      ],
      "metadata": {
        "colab": {
          "base_uri": "https://localhost:8080/",
          "height": 529,
          "referenced_widgets": [
            "432bee2f5147469b8e768a61a16489f7",
            "427e18e53254434babd7f5200f893241",
            "b09ccbc8475c4f89ba2630e5ba80494b",
            "205a47b7b40f4f5ab838ded35abbbd21",
            "643ee35d9d784b7594631594e84fd3b7",
            "96b0f4ec710349c79329312d5dbf983b",
            "c55b7273a5be43c6b98c549ca03f5ebd",
            "73cc7a18f9f24f748eb49be7d351ff71",
            "98bb28d003a842cbbba35e8deedac9e9",
            "eac324dcb7e14262bfdff64f4f837206",
            "b79a62fb3c5a4e369c559f64dc2ab180",
            "ad39c39c064a4815bbe679363a28e236",
            "1143472d750c4469b49c6c025f2f518f",
            "ed28b3039ae3437e85eb76603643b849",
            "4736b984c4224b04a4e7cc3012c78b91",
            "06f69343d0bd421c85b10e23b33e9148",
            "4523159b58e8484a878890921983113c",
            "0cfdc150d1ec4e52a9eb5e38f96cb6c3",
            "dc4a5a5132f743c6885ef0d898fdc862",
            "aec1ccc49f84443787fc444935411f22",
            "c7f75691a40847e1bcad830df47d591a",
            "eff1a43180804db490d8143865b5e604",
            "3d6491def6c44d5d81b81361e2282d0b",
            "26ce4075bd414ba8a82ab4bdfcb6a84f",
            "aa8c5286beed486da9eea65ea9b31c77",
            "4aa666e5343d4aa3b20aabe903500847",
            "3d0ce55949ac4b56a0580c8a27f38321",
            "2e3db71523f9455685e488aed7ac8785"
          ]
        },
        "id": "wO2r4vw28i05",
        "outputId": "f11596b2-868a-4eaf-fe73-5e194ad7cc22"
      },
      "execution_count": 54,
      "outputs": [
        {
          "output_type": "display_data",
          "data": {
            "application/vnd.jupyter.widget-view+json": {
              "model_id": "432bee2f5147469b8e768a61a16489f7",
              "version_minor": 0,
              "version_major": 2
            },
            "text/plain": [
              "HBox(children=(VBox(children=(Dropdown(description='Choix de Méthode:', index=1, options=(('Méthode de rectang…"
            ]
          },
          "metadata": {}
        },
        {
          "output_type": "display_data",
          "data": {
            "image/png": "[encoded data removed]",
            "text/plain": [
              "<Figure size 432x288 with 1 Axes>"
            ]
          },
          "metadata": {
            "needs_background": "light"
          }
        }
      ]
    },
    {
      "cell_type": "markdown",
      "source": [
        "Bien évidemment, on peut construire des méthodes composites d’ordres plus élevés.\n",
        "– Les méthodes utilisant des polynômes de degré plus élevé (tout en restant <8) sont plus précises (à\n",
        "nombre de points égal). Plus précisément, l’erreur associée à l’utilisation d'un polynôme de degré p\n",
        "décroît en n(p+1) si p est impair et n(p+2) si p est pair. Autrement dit, l’ordre des méthodes\n",
        "associées est p + 1 si p est impair et p + 2 si p est pair.\n",
        "\n",
        "– La précision de toutes les méthodes de Newton-Cote augmente avec le nombre de points utilisés.\n",
        "\n",
        "– Numériquement, chaque addition génère une petite erreur d’arrondi machine (l’erreur relative est de\n",
        "l’ordre de 1017 pour des réels doubles précision). Lorsque l’on somme beaucoup de nombres, les erreurs de chaque addition s’ajoutent et l’erreur relative totale augmente. Dans le cas des méthodes de\n",
        "Newton-Cotes composites, une erreur due aux arrondis machine s’ajoute donc aux erreurs de troncations étudiées précédemment. Et cette erreur augmente avec le nombre de points. En pratique, on ne\n",
        "peut donc pas augmenter infiniment le nombre d’intervalles des méthodes de Newton-Cotes, et il existe\n",
        "un nombre de points particulier qui permet une précision optimale."
      ],
      "metadata": {
        "id": "hG3wQKCSHXKo"
      }
    }
  ]
}